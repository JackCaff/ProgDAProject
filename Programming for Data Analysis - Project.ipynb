{
 "cells": [
  {
   "cell_type": "code",
   "execution_count": 1,
   "metadata": {},
   "outputs": [],
   "source": [
    "import pandas as pd\n",
    "import numpy as np"
   ]
  },
  {
   "cell_type": "code",
   "execution_count": 2,
   "metadata": {},
   "outputs": [],
   "source": [
    "N = 280 \n",
    "rng = np.random.default_rng()\n",
    "\n",
    "Machine = pd.DataFrame({\"Years in Production\": rng.integers(0,10, size=10), \"Batches Produced\": rng.integers(0, 18, size =10),})"
   ]
  },
  {
   "cell_type": "code",
   "execution_count": 3,
   "metadata": {},
   "outputs": [],
   "source": [
    "Machine [\"Units Planned\"] = Machine ['Batches Produced'] * N"
   ]
  },
  {
   "cell_type": "code",
   "execution_count": 4,
   "metadata": {},
   "outputs": [],
   "source": [
    "Machine.loc[Machine['Years in Production'] >= 3, 'Scrap Rate'] = 0.5 #https://datatofish.com/if-condition-in-pandas-dataframe/\n",
    "Machine.loc[Machine['Years in Production'] < 3, 'Scrap Rate'] = 0.02 #https://www.w3schools.com/python/python_conditions.asp"
   ]
  },
  {
   "cell_type": "code",
   "execution_count": 5,
   "metadata": {},
   "outputs": [],
   "source": [
    "Machine ['Scrap Produced'] = Machine [\"Units Planned\"] * Machine [\"Scrap Rate\"]"
   ]
  },
  {
   "cell_type": "code",
   "execution_count": 6,
   "metadata": {},
   "outputs": [],
   "source": [
    "Machine ['Units Shipped'] = Machine[\"Units Planned\"] - Machine[\"Scrap Produced\"]"
   ]
  },
  {
   "cell_type": "code",
   "execution_count": 7,
   "metadata": {},
   "outputs": [],
   "source": [
    "Machine ['Percentage Yield'] = Machine [\"Units Shipped\"] / Machine [\"Units Planned\"]"
   ]
  },
  {
   "cell_type": "code",
   "execution_count": 8,
   "metadata": {},
   "outputs": [],
   "source": [
    "Machine.loc[Machine['Percentage Yield'] >= (31/100), 'Process Classification'] = \"1 Sigma\"\n",
    "Machine.loc[Machine['Percentage Yield'] >= 0.69, 'Process Classification'] = \"2 Sigma\"\n",
    "Machine.loc[Machine['Percentage Yield'] >= 0.9333, 'Process Classification'] = \"3 Sigma\"\n",
    "Machine.loc[Machine['Percentage Yield'] >= 0.9938, 'Process Classification'] = \"4 Sigma\"\n",
    "Machine.loc[Machine['Percentage Yield'] >= 0.9997, 'Process Classification'] = \"5 Sigma\"\n",
    "Machine.loc[Machine['Percentage Yield'] >= 0.9996, 'Process Classification'] = \"6 Sigma\""
   ]
  },
  {
   "cell_type": "code",
   "execution_count": 9,
   "metadata": {},
   "outputs": [
    {
     "data": {
      "text/html": [
       "<div>\n",
       "<style scoped>\n",
       "    .dataframe tbody tr th:only-of-type {\n",
       "        vertical-align: middle;\n",
       "    }\n",
       "\n",
       "    .dataframe tbody tr th {\n",
       "        vertical-align: top;\n",
       "    }\n",
       "\n",
       "    .dataframe thead th {\n",
       "        text-align: right;\n",
       "    }\n",
       "</style>\n",
       "<table border=\"1\" class=\"dataframe\">\n",
       "  <thead>\n",
       "    <tr style=\"text-align: right;\">\n",
       "      <th></th>\n",
       "      <th>Years in Production</th>\n",
       "      <th>Batches Produced</th>\n",
       "      <th>Units Planned</th>\n",
       "      <th>Scrap Rate</th>\n",
       "      <th>Scrap Produced</th>\n",
       "      <th>Units Shipped</th>\n",
       "      <th>Percentage Yield</th>\n",
       "      <th>Process Classification</th>\n",
       "    </tr>\n",
       "  </thead>\n",
       "  <tbody>\n",
       "    <tr>\n",
       "      <th>0</th>\n",
       "      <td>1</td>\n",
       "      <td>14</td>\n",
       "      <td>3920</td>\n",
       "      <td>0.02</td>\n",
       "      <td>78.4</td>\n",
       "      <td>3841.6</td>\n",
       "      <td>0.98</td>\n",
       "      <td>3 Sigma</td>\n",
       "    </tr>\n",
       "    <tr>\n",
       "      <th>1</th>\n",
       "      <td>3</td>\n",
       "      <td>14</td>\n",
       "      <td>3920</td>\n",
       "      <td>0.50</td>\n",
       "      <td>1960.0</td>\n",
       "      <td>1960.0</td>\n",
       "      <td>0.50</td>\n",
       "      <td>1 Sigma</td>\n",
       "    </tr>\n",
       "    <tr>\n",
       "      <th>2</th>\n",
       "      <td>1</td>\n",
       "      <td>2</td>\n",
       "      <td>560</td>\n",
       "      <td>0.02</td>\n",
       "      <td>11.2</td>\n",
       "      <td>548.8</td>\n",
       "      <td>0.98</td>\n",
       "      <td>3 Sigma</td>\n",
       "    </tr>\n",
       "    <tr>\n",
       "      <th>3</th>\n",
       "      <td>8</td>\n",
       "      <td>9</td>\n",
       "      <td>2520</td>\n",
       "      <td>0.50</td>\n",
       "      <td>1260.0</td>\n",
       "      <td>1260.0</td>\n",
       "      <td>0.50</td>\n",
       "      <td>1 Sigma</td>\n",
       "    </tr>\n",
       "    <tr>\n",
       "      <th>4</th>\n",
       "      <td>5</td>\n",
       "      <td>5</td>\n",
       "      <td>1400</td>\n",
       "      <td>0.50</td>\n",
       "      <td>700.0</td>\n",
       "      <td>700.0</td>\n",
       "      <td>0.50</td>\n",
       "      <td>1 Sigma</td>\n",
       "    </tr>\n",
       "    <tr>\n",
       "      <th>5</th>\n",
       "      <td>0</td>\n",
       "      <td>0</td>\n",
       "      <td>0</td>\n",
       "      <td>0.02</td>\n",
       "      <td>0.0</td>\n",
       "      <td>0.0</td>\n",
       "      <td>NaN</td>\n",
       "      <td>NaN</td>\n",
       "    </tr>\n",
       "    <tr>\n",
       "      <th>6</th>\n",
       "      <td>1</td>\n",
       "      <td>17</td>\n",
       "      <td>4760</td>\n",
       "      <td>0.02</td>\n",
       "      <td>95.2</td>\n",
       "      <td>4664.8</td>\n",
       "      <td>0.98</td>\n",
       "      <td>3 Sigma</td>\n",
       "    </tr>\n",
       "    <tr>\n",
       "      <th>7</th>\n",
       "      <td>9</td>\n",
       "      <td>15</td>\n",
       "      <td>4200</td>\n",
       "      <td>0.50</td>\n",
       "      <td>2100.0</td>\n",
       "      <td>2100.0</td>\n",
       "      <td>0.50</td>\n",
       "      <td>1 Sigma</td>\n",
       "    </tr>\n",
       "    <tr>\n",
       "      <th>8</th>\n",
       "      <td>7</td>\n",
       "      <td>9</td>\n",
       "      <td>2520</td>\n",
       "      <td>0.50</td>\n",
       "      <td>1260.0</td>\n",
       "      <td>1260.0</td>\n",
       "      <td>0.50</td>\n",
       "      <td>1 Sigma</td>\n",
       "    </tr>\n",
       "    <tr>\n",
       "      <th>9</th>\n",
       "      <td>4</td>\n",
       "      <td>17</td>\n",
       "      <td>4760</td>\n",
       "      <td>0.50</td>\n",
       "      <td>2380.0</td>\n",
       "      <td>2380.0</td>\n",
       "      <td>0.50</td>\n",
       "      <td>1 Sigma</td>\n",
       "    </tr>\n",
       "  </tbody>\n",
       "</table>\n",
       "</div>"
      ],
      "text/plain": [
       "   Years in Production  Batches Produced  Units Planned  Scrap Rate  \\\n",
       "0                    1                14           3920        0.02   \n",
       "1                    3                14           3920        0.50   \n",
       "2                    1                 2            560        0.02   \n",
       "3                    8                 9           2520        0.50   \n",
       "4                    5                 5           1400        0.50   \n",
       "5                    0                 0              0        0.02   \n",
       "6                    1                17           4760        0.02   \n",
       "7                    9                15           4200        0.50   \n",
       "8                    7                 9           2520        0.50   \n",
       "9                    4                17           4760        0.50   \n",
       "\n",
       "   Scrap Produced  Units Shipped  Percentage Yield Process Classification  \n",
       "0            78.4         3841.6              0.98                3 Sigma  \n",
       "1          1960.0         1960.0              0.50                1 Sigma  \n",
       "2            11.2          548.8              0.98                3 Sigma  \n",
       "3          1260.0         1260.0              0.50                1 Sigma  \n",
       "4           700.0          700.0              0.50                1 Sigma  \n",
       "5             0.0            0.0               NaN                    NaN  \n",
       "6            95.2         4664.8              0.98                3 Sigma  \n",
       "7          2100.0         2100.0              0.50                1 Sigma  \n",
       "8          1260.0         1260.0              0.50                1 Sigma  \n",
       "9          2380.0         2380.0              0.50                1 Sigma  "
      ]
     },
     "execution_count": 9,
     "metadata": {},
     "output_type": "execute_result"
    }
   ],
   "source": [
    "Machine"
   ]
  },
  {
   "cell_type": "markdown",
   "metadata": {},
   "source": [
    "#### End"
   ]
  }
 ],
 "metadata": {
  "kernelspec": {
   "display_name": "Python 3",
   "language": "python",
   "name": "python3"
  },
  "language_info": {
   "codemirror_mode": {
    "name": "ipython",
    "version": 3
   },
   "file_extension": ".py",
   "mimetype": "text/x-python",
   "name": "python",
   "nbconvert_exporter": "python",
   "pygments_lexer": "ipython3",
   "version": "3.8.3"
  }
 },
 "nbformat": 4,
 "nbformat_minor": 4
}
