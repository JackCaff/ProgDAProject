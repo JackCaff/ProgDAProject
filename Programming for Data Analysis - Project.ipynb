{
 "cells": [
  {
   "cell_type": "markdown",
   "metadata": {},
   "source": [
    "#### Programming for Data Analysis - Project. \n",
    "\n",
    "#### Author: Jack Caffrey\n",
    "\n",
    "****\n",
    "#### Problem statement \n",
    "\n",
    "Create a data set by simulating a real-world phenomenon of your choosing. Then, rather than collect data related to the phenomenon, you should model and synthesise such data using Python [1].\n",
    "\n",
    "**** \n",
    "\n",
    "#### Project Background \n",
    "\n",
    "In a Manufacturing enviornment process classification and performance are vital to both company performance and customer satisfaction. A measure of this performance is OEE (Overall Equipment Effectiveness). The OEE concept is based off the following:   \n",
    "\n",
    "   1. How often is the machine available to run?  \n",
    "   2. How fast does it run when its running?  \n",
    "   3. How many acceptable parts were produced?     \n",
    "    \n",
    "The above formula is calculated as : **** Availability x Performance X Quality (A x P x Q).****  [2]. \n",
    "\n",
    "Quality is a key area of focus for Continuous Improvement (C.I) in order to improve OEE performance. \n",
    "\n",
    "In order to establish a starting point for C.I projects it is necessary to determine current process capabilities. For the purpose of this project a rough guide is used to determine the ***Process Classification***. \n",
    "\n",
    "The term  ***Six sigma*** is loosely coined in this project to order process classification. \n",
    "\n",
    "Six Sigma classifies process under 7 categories: [3]. \n",
    "\n",
    "  1. Level 1 - % Yield of 31% & % defective 69%. \n",
    "  2. Level 2 - % Yield of 69% & % defective 31%.\n",
    "  3. Level 3 - % Yield of 93.3% & % defective 6.7%.\n",
    "  4. Level 4 - % Yield of 99.38% & % defective 0.62%.\n",
    "  5. Level 5 - % Yield of 99.977% & % defective 0.023%.\n",
    "  6. Level 6 - % Yield of 99.99966% & % defective 0.000034%.\n",
    "\n",
    "The relationship between machine age **\"Years in Production\"** and defective product **\"Units Scrapped\"** produced from the machine is used in this instance to determine the six sigma classification. It is generally accepted that the **\"Scrap Rate\"** will increase as machine age.  \n",
    "\n",
    "Any scrapped units are expected to negatively impact units shipped to customer. \n",
    "\n",
    "The above relationships will determine the direction used to assess and begin CI activites with the company across the 100 machines the Data is simulated for. \n",
    "\n",
    "Note: \n",
    "\n",
    " * Pandas documentation was reffered to for all DataFrame construction - https://pandas.pydata.org/pandas-docs/stable/reference/api/pandas.DataFrame.html  \n",
    " * Seaborn & Matplotlib Documentation was reffered to for all plotting information - https://seaborn.pydata.org/ & https://matplotlib.org/\n",
    "\n",
    " \n",
    "#### References: \n",
    "* [1] Project - Programming for Data Analysis, GMIT Project assignment. \n",
    "* [2] OEE, Six Sigma Material, https://www.six-sigma-material.com/OEE.html\n",
    "* [3] Six Sigma, Wikipedia, https://en.wikipedia.org/wiki/Six_Sigma#\n",
    "* [4] 5 ways to apply an IF condition in Pandas DataFrame, data to fish, https://datatofish.com/if-condition-in-pandas-dataframe/\n",
    "* [5] Python If ... Else, w3schools,https://www.w3schools.com/python/python_conditions.asp\n",
    "* [6] cmdlinetips.com, How To Make Histogram in Python with Pandas and Seaborn?, https://cmdlinetips.com/2019/02/how-to-make-histogram-in-python-with-pandas-and-seaborn/  "
   ]
  },
  {
   "cell_type": "code",
   "execution_count": 1,
   "metadata": {},
   "outputs": [],
   "source": [
    "# importing the required libraries \n",
    "import pandas as pd\n",
    "import numpy as np\n",
    "import random\n",
    "import matplotlib.pyplot as plt\n",
    "import seaborn as sns"
   ]
  },
  {
   "cell_type": "code",
   "execution_count": 2,
   "metadata": {},
   "outputs": [],
   "source": [
    "N = 280 # Batch Size for machines in Question\n",
    "rng = np.random.default_rng() # initiate random number generator \n",
    "\n",
    "Machine = pd.DataFrame({\"Years in Production\": rng.integers(0,10, size=100), \"Batches Produced\": rng.integers(0, 10, size =100),}) # Used to create Data Frame"
   ]
  },
  {
   "cell_type": "code",
   "execution_count": 3,
   "metadata": {},
   "outputs": [],
   "source": [
    "Machine ['Units Planned'] = Machine ['Batches Produced'] * N "
   ]
  },
  {
   "cell_type": "code",
   "execution_count": 4,
   "metadata": {},
   "outputs": [],
   "source": [
    "n1 = random.uniform(0, 0.0001) # Used to generate random values between 0 & 0.0001  \n",
    "n2 = random.uniform(0, 0.05) # Used to generate random values between 0 & 0.05 \n",
    "n3 = random.uniform(0, 0.1) # Used to generate random values between 0 & 0.1 \n",
    "\n",
    "# Determine Scrap Rate dependant on machine age\n",
    "Machine.loc[Machine[\"Years in Production\"] <= 2, 'Scrap Rate'] =n1 \n",
    "Machine.loc[Machine[\"Years in Production\"] > 2, 'Scrap Rate'] = n2\n",
    "Machine.loc[Machine[\"Years in Production\"] >= 7, 'Scrap Rate'] = n3"
   ]
  },
  {
   "cell_type": "code",
   "execution_count": 5,
   "metadata": {},
   "outputs": [],
   "source": [
    "Machine['Units Scrapped'] = Machine ['Units Planned'] * Machine ['Scrap Rate'] # Calculate Units Scrapped"
   ]
  },
  {
   "cell_type": "code",
   "execution_count": 6,
   "metadata": {},
   "outputs": [],
   "source": [
    "Machine ['Units Shipped'] = Machine ['Units Planned'] - Machine ['Units Scrapped'] # Calculate Units Shipped"
   ]
  },
  {
   "cell_type": "code",
   "execution_count": 7,
   "metadata": {},
   "outputs": [],
   "source": [
    "Machine ['Percentage Yield'] = Machine [\"Units Shipped\"] / Machine [\"Units Planned\"] # Calculate Percentage Yield "
   ]
  },
  {
   "cell_type": "code",
   "execution_count": 8,
   "metadata": {},
   "outputs": [],
   "source": [
    "# Define machine classifications \n",
    "\n",
    "Machine.loc[Machine['Units Shipped'] == 0, 'Process Classification'] = \"Out of Service\"\n",
    "Machine.loc[Machine['Percentage Yield'] >= 0.31, 'Process Classification'] = \"1 Sigma\" \n",
    "Machine.loc[Machine['Percentage Yield'] >= 0.69, 'Process Classification'] = \"2 Sigma\"\n",
    "Machine.loc[Machine['Percentage Yield'] >= 0.933, 'Process Classification'] = \"3 Sigma\" \n",
    "Machine.loc[Machine['Percentage Yield'] >= 0.9938, 'Process Classification'] = \"4 Sigma\" \n",
    "Machine.loc[Machine['Percentage Yield'] >= 0.99977, 'Process Classification'] = \"5 Sigma\"\n",
    "Machine.loc[Machine['Percentage Yield'] >= 0.9999966, 'Process Classification'] = \"6 Sigma\""
   ]
  },
  {
   "cell_type": "code",
   "execution_count": 9,
   "metadata": {},
   "outputs": [
    {
     "data": {
      "text/html": [
       "<div>\n",
       "<style scoped>\n",
       "    .dataframe tbody tr th:only-of-type {\n",
       "        vertical-align: middle;\n",
       "    }\n",
       "\n",
       "    .dataframe tbody tr th {\n",
       "        vertical-align: top;\n",
       "    }\n",
       "\n",
       "    .dataframe thead th {\n",
       "        text-align: right;\n",
       "    }\n",
       "</style>\n",
       "<table border=\"1\" class=\"dataframe\">\n",
       "  <thead>\n",
       "    <tr style=\"text-align: right;\">\n",
       "      <th></th>\n",
       "      <th>Years in Production</th>\n",
       "      <th>Batches Produced</th>\n",
       "      <th>Units Planned</th>\n",
       "      <th>Scrap Rate</th>\n",
       "      <th>Units Scrapped</th>\n",
       "      <th>Units Shipped</th>\n",
       "      <th>Percentage Yield</th>\n",
       "      <th>Process Classification</th>\n",
       "    </tr>\n",
       "  </thead>\n",
       "  <tbody>\n",
       "    <tr>\n",
       "      <th>0</th>\n",
       "      <td>2</td>\n",
       "      <td>6</td>\n",
       "      <td>1680</td>\n",
       "      <td>0.000030</td>\n",
       "      <td>0.0</td>\n",
       "      <td>1680.0</td>\n",
       "      <td>0.999970</td>\n",
       "      <td>5 Sigma</td>\n",
       "    </tr>\n",
       "    <tr>\n",
       "      <th>1</th>\n",
       "      <td>1</td>\n",
       "      <td>6</td>\n",
       "      <td>1680</td>\n",
       "      <td>0.000030</td>\n",
       "      <td>0.0</td>\n",
       "      <td>1680.0</td>\n",
       "      <td>0.999970</td>\n",
       "      <td>5 Sigma</td>\n",
       "    </tr>\n",
       "    <tr>\n",
       "      <th>2</th>\n",
       "      <td>5</td>\n",
       "      <td>5</td>\n",
       "      <td>1400</td>\n",
       "      <td>0.010846</td>\n",
       "      <td>15.0</td>\n",
       "      <td>1385.0</td>\n",
       "      <td>0.989154</td>\n",
       "      <td>3 Sigma</td>\n",
       "    </tr>\n",
       "    <tr>\n",
       "      <th>3</th>\n",
       "      <td>8</td>\n",
       "      <td>1</td>\n",
       "      <td>280</td>\n",
       "      <td>0.082391</td>\n",
       "      <td>23.0</td>\n",
       "      <td>257.0</td>\n",
       "      <td>0.917609</td>\n",
       "      <td>2 Sigma</td>\n",
       "    </tr>\n",
       "    <tr>\n",
       "      <th>4</th>\n",
       "      <td>3</td>\n",
       "      <td>9</td>\n",
       "      <td>2520</td>\n",
       "      <td>0.010846</td>\n",
       "      <td>27.0</td>\n",
       "      <td>2493.0</td>\n",
       "      <td>0.989154</td>\n",
       "      <td>3 Sigma</td>\n",
       "    </tr>\n",
       "    <tr>\n",
       "      <th>...</th>\n",
       "      <td>...</td>\n",
       "      <td>...</td>\n",
       "      <td>...</td>\n",
       "      <td>...</td>\n",
       "      <td>...</td>\n",
       "      <td>...</td>\n",
       "      <td>...</td>\n",
       "      <td>...</td>\n",
       "    </tr>\n",
       "    <tr>\n",
       "      <th>95</th>\n",
       "      <td>4</td>\n",
       "      <td>0</td>\n",
       "      <td>0</td>\n",
       "      <td>0.010846</td>\n",
       "      <td>0.0</td>\n",
       "      <td>0.0</td>\n",
       "      <td>NaN</td>\n",
       "      <td>Out of Service</td>\n",
       "    </tr>\n",
       "    <tr>\n",
       "      <th>96</th>\n",
       "      <td>6</td>\n",
       "      <td>1</td>\n",
       "      <td>280</td>\n",
       "      <td>0.010846</td>\n",
       "      <td>3.0</td>\n",
       "      <td>277.0</td>\n",
       "      <td>0.989154</td>\n",
       "      <td>3 Sigma</td>\n",
       "    </tr>\n",
       "    <tr>\n",
       "      <th>97</th>\n",
       "      <td>3</td>\n",
       "      <td>0</td>\n",
       "      <td>0</td>\n",
       "      <td>0.010846</td>\n",
       "      <td>0.0</td>\n",
       "      <td>0.0</td>\n",
       "      <td>NaN</td>\n",
       "      <td>Out of Service</td>\n",
       "    </tr>\n",
       "    <tr>\n",
       "      <th>98</th>\n",
       "      <td>6</td>\n",
       "      <td>6</td>\n",
       "      <td>1680</td>\n",
       "      <td>0.010846</td>\n",
       "      <td>18.0</td>\n",
       "      <td>1662.0</td>\n",
       "      <td>0.989154</td>\n",
       "      <td>3 Sigma</td>\n",
       "    </tr>\n",
       "    <tr>\n",
       "      <th>99</th>\n",
       "      <td>2</td>\n",
       "      <td>4</td>\n",
       "      <td>1120</td>\n",
       "      <td>0.000030</td>\n",
       "      <td>0.0</td>\n",
       "      <td>1120.0</td>\n",
       "      <td>0.999970</td>\n",
       "      <td>5 Sigma</td>\n",
       "    </tr>\n",
       "  </tbody>\n",
       "</table>\n",
       "<p>100 rows × 8 columns</p>\n",
       "</div>"
      ],
      "text/plain": [
       "    Years in Production  Batches Produced  Units Planned  Scrap Rate  \\\n",
       "0                     2                 6           1680    0.000030   \n",
       "1                     1                 6           1680    0.000030   \n",
       "2                     5                 5           1400    0.010846   \n",
       "3                     8                 1            280    0.082391   \n",
       "4                     3                 9           2520    0.010846   \n",
       "..                  ...               ...            ...         ...   \n",
       "95                    4                 0              0    0.010846   \n",
       "96                    6                 1            280    0.010846   \n",
       "97                    3                 0              0    0.010846   \n",
       "98                    6                 6           1680    0.010846   \n",
       "99                    2                 4           1120    0.000030   \n",
       "\n",
       "    Units Scrapped  Units Shipped  Percentage Yield Process Classification  \n",
       "0              0.0         1680.0          0.999970                5 Sigma  \n",
       "1              0.0         1680.0          0.999970                5 Sigma  \n",
       "2             15.0         1385.0          0.989154                3 Sigma  \n",
       "3             23.0          257.0          0.917609                2 Sigma  \n",
       "4             27.0         2493.0          0.989154                3 Sigma  \n",
       "..             ...            ...               ...                    ...  \n",
       "95             0.0            0.0               NaN         Out of Service  \n",
       "96             3.0          277.0          0.989154                3 Sigma  \n",
       "97             0.0            0.0               NaN         Out of Service  \n",
       "98            18.0         1662.0          0.989154                3 Sigma  \n",
       "99             0.0         1120.0          0.999970                5 Sigma  \n",
       "\n",
       "[100 rows x 8 columns]"
      ]
     },
     "execution_count": 9,
     "metadata": {},
     "output_type": "execute_result"
    }
   ],
   "source": [
    "Machine.round({'Units Scrapped':0,'Scrap Rate':7, 'Units Shipped':0,'Percentage Yield':7}) # Round values to required values and display DataFrame"
   ]
  },
  {
   "cell_type": "code",
   "execution_count": 10,
   "metadata": {},
   "outputs": [
    {
     "name": "stdout",
     "output_type": "stream",
     "text": [
      "3 Sigma           38\n",
      "5 Sigma           25\n",
      "2 Sigma           22\n",
      "Out of Service    15\n",
      "Name: Process Classification, dtype: int64\n"
     ]
    }
   ],
   "source": [
    "print(Machine[\"Process Classification\"].value_counts()) # Print Count of machine classifications "
   ]
  },
  {
   "cell_type": "code",
   "execution_count": 11,
   "metadata": {},
   "outputs": [
    {
     "data": {
      "text/plain": [
       "Text(0, 0.5, 'Count')"
      ]
     },
     "execution_count": 11,
     "metadata": {},
     "output_type": "execute_result"
    },
    {
     "data": {
      "image/png": "[encoded data removed]",
      "text/plain": [
       "<Figure size 432x288 with 1 Axes>"
      ]
     },
     "metadata": {
      "needs_background": "light"
     },
     "output_type": "display_data"
    }
   ],
   "source": [
    "# Ref [6] Display total machine classifications. \n",
    "Machine[\"Process Classification\"].hist(bins=10, grid=False, xlabelsize=12, ylabelsize=12)\n",
    "plt.xlabel(\"Process Classification\", fontsize=12)\n",
    "plt.ylabel(\"Count\",fontsize=12)"
   ]
  },
  {
   "cell_type": "code",
   "execution_count": 12,
   "metadata": {},
   "outputs": [
    {
     "data": {
      "text/plain": [
       "array([ 10.24233855, -18.26933989])"
      ]
     },
     "execution_count": 12,
     "metadata": {},
     "output_type": "execute_result"
    }
   ],
   "source": [
    "# Ref Ianmcloughlin lecture notes\n",
    "coeffs = np.polyfit(Machine[\"Years in Production\"], Machine[\"Units Scrapped\"], 1)\n",
    "coeffs"
   ]
  },
  {
   "cell_type": "code",
   "execution_count": 13,
   "metadata": {},
   "outputs": [
    {
     "data": {
      "image/png": "[encoded data removed]",
      "text/plain": [
       "<Figure size 432x288 with 1 Axes>"
      ]
     },
     "metadata": {
      "needs_background": "light"
     },
     "output_type": "display_data"
    }
   ],
   "source": [
    "# Ref Ianmcloughlin lecture notes\n",
    "\n",
    "plt.plot(Machine[\"Years in Production\"], Machine[\"Units Scrapped\"], '.', label=\"Units Scrapped\")\n",
    "plt.plot(Machine[\"Years in Production\"], coeffs[0] * Machine[\"Years in Production\"] + coeffs[1], '-', label='Trend-line')\n",
    "\n",
    "plt.legend();"
   ]
  },
  {
   "cell_type": "code",
   "execution_count": 14,
   "metadata": {},
   "outputs": [
    {
     "data": {
      "text/plain": [
       "<matplotlib.axes._subplots.AxesSubplot at 0x24977dc28b0>"
      ]
     },
     "execution_count": 14,
     "metadata": {},
     "output_type": "execute_result"
    },
    {
     "data": {
      "image/png": "[encoded data removed]",
      "text/plain": [
       "<Figure size 432x288 with 1 Axes>"
      ]
     },
     "metadata": {
      "needs_background": "light"
     },
     "output_type": "display_data"
    }
   ],
   "source": [
    "sns.lineplot(data=Machine, x=\"Years in Production\", y=\"Percentage Yield\")"
   ]
  },
  {
   "cell_type": "markdown",
   "metadata": {},
   "source": [
    "#### Conculsion\n",
    "\n",
    "It is possible to conclude the following:\n",
    "1. The total number of machine in a specific classification. This information will help guide the starting point of the process improvements. \n",
    "2. Confirms the generally accepted theory that the defective units produced is mainly dependant on the number of years a machine is in production. "
   ]
  },
  {
   "cell_type": "markdown",
   "metadata": {},
   "source": [
    "#### End"
   ]
  }
 ],
 "metadata": {
  "kernelspec": {
   "display_name": "Python 3",
   "language": "python",
   "name": "python3"
  },
  "language_info": {
   "codemirror_mode": {
    "name": "ipython",
    "version": 3
   },
   "file_extension": ".py",
   "mimetype": "text/x-python",
   "name": "python",
   "nbconvert_exporter": "python",
   "pygments_lexer": "ipython3",
   "version": "3.8.3"
  }
 },
 "nbformat": 4,
 "nbformat_minor": 4
}
