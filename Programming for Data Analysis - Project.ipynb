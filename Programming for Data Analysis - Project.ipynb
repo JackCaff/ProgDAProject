{
 "cells": [
  {
   "cell_type": "code",
   "execution_count": 84,
   "metadata": {},
   "outputs": [],
   "source": [
    "import pandas as pd\n",
    "import numpy as np\n",
    "import random\n",
    "import matplotlib.pyplot as plt"
   ]
  },
  {
   "cell_type": "code",
   "execution_count": 85,
   "metadata": {},
   "outputs": [],
   "source": [
    "N = 280 \n",
    "rng = np.random.default_rng()\n",
    "\n",
    "Machine = pd.DataFrame({\"Years in Production\": rng.integers(0,10, size=100), \"Batches Produced\": rng.integers(0, 10, size =100),})"
   ]
  },
  {
   "cell_type": "code",
   "execution_count": 86,
   "metadata": {},
   "outputs": [],
   "source": [
    "Machine ['Units Planned'] = Machine ['Batches Produced'] * N"
   ]
  },
  {
   "cell_type": "code",
   "execution_count": 87,
   "metadata": {},
   "outputs": [],
   "source": [
    "n1 = random.uniform(0, 0.0001)\n",
    "n2 = random.uniform(0, 0.05)\n",
    "n3 = random.uniform(0, 0.1)\n",
    "Machine.loc[Machine[\"Years in Production\"] <= 2, 'Scrap Rate'] =n1\n",
    "Machine.loc[Machine[\"Years in Production\"] > 2, 'Scrap Rate'] = n2\n",
    "Machine.loc[Machine[\"Years in Production\"] >= 7, 'Scrap Rate'] = n3"
   ]
  },
  {
   "cell_type": "code",
   "execution_count": 88,
   "metadata": {},
   "outputs": [],
   "source": [
    "Machine['Units Scrapped'] = Machine ['Units Planned'] * Machine ['Scrap Rate']"
   ]
  },
  {
   "cell_type": "code",
   "execution_count": 89,
   "metadata": {},
   "outputs": [],
   "source": [
    "Machine ['Units Shipped'] = Machine ['Units Planned'] - Machine ['Units Scrapped']"
   ]
  },
  {
   "cell_type": "code",
   "execution_count": 90,
   "metadata": {},
   "outputs": [],
   "source": [
    "Machine ['Percentage Yield'] = Machine [\"Units Shipped\"] / Machine [\"Units Planned\"]"
   ]
  },
  {
   "cell_type": "code",
   "execution_count": 91,
   "metadata": {},
   "outputs": [],
   "source": [
    "Machine.loc[Machine['Units Shipped'] == 0, 'Process Classification'] = \"Out of Service\"\n",
    "Machine.loc[Machine['Percentage Yield'] >= 0.31, 'Process Classification'] = \"1 Sigma\" #https://datatofish.com/if-condition-in-pandas-dataframe/\n",
    "Machine.loc[Machine['Percentage Yield'] >= 0.69, 'Process Classification'] = \"2 Sigma\"\n",
    "Machine.loc[Machine['Percentage Yield'] >= 0.933, 'Process Classification'] = \"3 Sigma\" \n",
    "Machine.loc[Machine['Percentage Yield'] >= 0.9938, 'Process Classification'] = \"4 Sigma\" #https://www.w3schools.com/python/python_conditions.asp\n",
    "Machine.loc[Machine['Percentage Yield'] >= 0.99977, 'Process Classification'] = \"5 Sigma\"\n",
    "Machine.loc[Machine['Percentage Yield'] >= 0.9999966, 'Process Classification'] = \"6 Sigma\""
   ]
  },
  {
   "cell_type": "code",
   "execution_count": 92,
   "metadata": {},
   "outputs": [
    {
     "data": {
      "text/html": [
       "<div>\n",
       "<style scoped>\n",
       "    .dataframe tbody tr th:only-of-type {\n",
       "        vertical-align: middle;\n",
       "    }\n",
       "\n",
       "    .dataframe tbody tr th {\n",
       "        vertical-align: top;\n",
       "    }\n",
       "\n",
       "    .dataframe thead th {\n",
       "        text-align: right;\n",
       "    }\n",
       "</style>\n",
       "<table border=\"1\" class=\"dataframe\">\n",
       "  <thead>\n",
       "    <tr style=\"text-align: right;\">\n",
       "      <th></th>\n",
       "      <th>Years in Production</th>\n",
       "      <th>Batches Produced</th>\n",
       "      <th>Units Planned</th>\n",
       "      <th>Scrap Rate</th>\n",
       "      <th>Units Scrapped</th>\n",
       "      <th>Units Shipped</th>\n",
       "      <th>Percentage Yield</th>\n",
       "      <th>Process Classification</th>\n",
       "    </tr>\n",
       "  </thead>\n",
       "  <tbody>\n",
       "    <tr>\n",
       "      <th>0</th>\n",
       "      <td>5</td>\n",
       "      <td>8</td>\n",
       "      <td>2240</td>\n",
       "      <td>0.029509</td>\n",
       "      <td>66.0</td>\n",
       "      <td>2174.0</td>\n",
       "      <td>0.970491</td>\n",
       "      <td>3 Sigma</td>\n",
       "    </tr>\n",
       "    <tr>\n",
       "      <th>1</th>\n",
       "      <td>7</td>\n",
       "      <td>2</td>\n",
       "      <td>560</td>\n",
       "      <td>0.058492</td>\n",
       "      <td>33.0</td>\n",
       "      <td>527.0</td>\n",
       "      <td>0.941508</td>\n",
       "      <td>3 Sigma</td>\n",
       "    </tr>\n",
       "    <tr>\n",
       "      <th>2</th>\n",
       "      <td>7</td>\n",
       "      <td>1</td>\n",
       "      <td>280</td>\n",
       "      <td>0.058492</td>\n",
       "      <td>16.0</td>\n",
       "      <td>264.0</td>\n",
       "      <td>0.941508</td>\n",
       "      <td>3 Sigma</td>\n",
       "    </tr>\n",
       "    <tr>\n",
       "      <th>3</th>\n",
       "      <td>0</td>\n",
       "      <td>9</td>\n",
       "      <td>2520</td>\n",
       "      <td>0.000086</td>\n",
       "      <td>0.0</td>\n",
       "      <td>2520.0</td>\n",
       "      <td>0.999914</td>\n",
       "      <td>5 Sigma</td>\n",
       "    </tr>\n",
       "    <tr>\n",
       "      <th>4</th>\n",
       "      <td>6</td>\n",
       "      <td>2</td>\n",
       "      <td>560</td>\n",
       "      <td>0.029509</td>\n",
       "      <td>17.0</td>\n",
       "      <td>543.0</td>\n",
       "      <td>0.970491</td>\n",
       "      <td>3 Sigma</td>\n",
       "    </tr>\n",
       "    <tr>\n",
       "      <th>...</th>\n",
       "      <td>...</td>\n",
       "      <td>...</td>\n",
       "      <td>...</td>\n",
       "      <td>...</td>\n",
       "      <td>...</td>\n",
       "      <td>...</td>\n",
       "      <td>...</td>\n",
       "      <td>...</td>\n",
       "    </tr>\n",
       "    <tr>\n",
       "      <th>95</th>\n",
       "      <td>2</td>\n",
       "      <td>1</td>\n",
       "      <td>280</td>\n",
       "      <td>0.000086</td>\n",
       "      <td>0.0</td>\n",
       "      <td>280.0</td>\n",
       "      <td>0.999914</td>\n",
       "      <td>5 Sigma</td>\n",
       "    </tr>\n",
       "    <tr>\n",
       "      <th>96</th>\n",
       "      <td>0</td>\n",
       "      <td>4</td>\n",
       "      <td>1120</td>\n",
       "      <td>0.000086</td>\n",
       "      <td>0.0</td>\n",
       "      <td>1120.0</td>\n",
       "      <td>0.999914</td>\n",
       "      <td>5 Sigma</td>\n",
       "    </tr>\n",
       "    <tr>\n",
       "      <th>97</th>\n",
       "      <td>6</td>\n",
       "      <td>5</td>\n",
       "      <td>1400</td>\n",
       "      <td>0.029509</td>\n",
       "      <td>41.0</td>\n",
       "      <td>1359.0</td>\n",
       "      <td>0.970491</td>\n",
       "      <td>3 Sigma</td>\n",
       "    </tr>\n",
       "    <tr>\n",
       "      <th>98</th>\n",
       "      <td>2</td>\n",
       "      <td>9</td>\n",
       "      <td>2520</td>\n",
       "      <td>0.000086</td>\n",
       "      <td>0.0</td>\n",
       "      <td>2520.0</td>\n",
       "      <td>0.999914</td>\n",
       "      <td>5 Sigma</td>\n",
       "    </tr>\n",
       "    <tr>\n",
       "      <th>99</th>\n",
       "      <td>9</td>\n",
       "      <td>7</td>\n",
       "      <td>1960</td>\n",
       "      <td>0.058492</td>\n",
       "      <td>115.0</td>\n",
       "      <td>1845.0</td>\n",
       "      <td>0.941508</td>\n",
       "      <td>3 Sigma</td>\n",
       "    </tr>\n",
       "  </tbody>\n",
       "</table>\n",
       "<p>100 rows × 8 columns</p>\n",
       "</div>"
      ],
      "text/plain": [
       "    Years in Production  Batches Produced  Units Planned  Scrap Rate  \\\n",
       "0                     5                 8           2240    0.029509   \n",
       "1                     7                 2            560    0.058492   \n",
       "2                     7                 1            280    0.058492   \n",
       "3                     0                 9           2520    0.000086   \n",
       "4                     6                 2            560    0.029509   \n",
       "..                  ...               ...            ...         ...   \n",
       "95                    2                 1            280    0.000086   \n",
       "96                    0                 4           1120    0.000086   \n",
       "97                    6                 5           1400    0.029509   \n",
       "98                    2                 9           2520    0.000086   \n",
       "99                    9                 7           1960    0.058492   \n",
       "\n",
       "    Units Scrapped  Units Shipped  Percentage Yield Process Classification  \n",
       "0             66.0         2174.0          0.970491                3 Sigma  \n",
       "1             33.0          527.0          0.941508                3 Sigma  \n",
       "2             16.0          264.0          0.941508                3 Sigma  \n",
       "3              0.0         2520.0          0.999914                5 Sigma  \n",
       "4             17.0          543.0          0.970491                3 Sigma  \n",
       "..             ...            ...               ...                    ...  \n",
       "95             0.0          280.0          0.999914                5 Sigma  \n",
       "96             0.0         1120.0          0.999914                5 Sigma  \n",
       "97            41.0         1359.0          0.970491                3 Sigma  \n",
       "98             0.0         2520.0          0.999914                5 Sigma  \n",
       "99           115.0         1845.0          0.941508                3 Sigma  \n",
       "\n",
       "[100 rows x 8 columns]"
      ]
     },
     "execution_count": 92,
     "metadata": {},
     "output_type": "execute_result"
    }
   ],
   "source": [
    "Machine.round({'Units Scrapped':0,'Scrap Rate':7, 'Units Shipped':0,'Percentage Yield':7})"
   ]
  },
  {
   "cell_type": "code",
   "execution_count": 96,
   "metadata": {},
   "outputs": [
    {
     "name": "stdout",
     "output_type": "stream",
     "text": [
      "3 Sigma           49\n",
      "5 Sigma           42\n",
      "Out of Service     9\n",
      "Name: Process Classification, dtype: int64\n"
     ]
    }
   ],
   "source": [
    "print (Machine[\"Process Classification\"].value_counts())"
   ]
  },
  {
   "cell_type": "code",
   "execution_count": 97,
   "metadata": {},
   "outputs": [
    {
     "data": {
      "image/png": "[encoded data removed]",
      "text/plain": [
       "<Figure size 432x288 with 1 Axes>"
      ]
     },
     "metadata": {
      "needs_background": "light"
     },
     "output_type": "display_data"
    }
   ],
   "source": [
    "plt.scatter([Machine[\"Years in Production\"]], [Machine[\"Percentage Yield\"]], color='black');"
   ]
  },
  {
   "cell_type": "markdown",
   "metadata": {},
   "source": [
    "#### End"
   ]
  }
 ],
 "metadata": {
  "kernelspec": {
   "display_name": "Python 3",
   "language": "python",
   "name": "python3"
  },
  "language_info": {
   "codemirror_mode": {
    "name": "ipython",
    "version": 3
   },
   "file_extension": ".py",
   "mimetype": "text/x-python",
   "name": "python",
   "nbconvert_exporter": "python",
   "pygments_lexer": "ipython3",
   "version": "3.8.3"
  }
 },
 "nbformat": 4,
 "nbformat_minor": 4
}
